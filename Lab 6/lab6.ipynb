{
  "nbformat": 4,
  "nbformat_minor": 0,
  "metadata": {
    "colab": {
      "name": "lab6.ipynb",
      "provenance": []
    },
    "kernelspec": {
      "name": "python3",
      "display_name": "Python 3"
    }
  },
  "cells": [
    {
      "cell_type": "code",
      "metadata": {
        "id": "HDJH8WXZU2Zt",
        "colab_type": "code",
        "colab": {
          "base_uri": "https://localhost:8080/",
          "height": 85
        },
        "outputId": "2b915486-2bd2-4216-e558-496c50d799e5"
      },
      "source": [
        "import nltk\n",
        "import heapq\n",
        "import numpy as np\n",
        "nltk.download('stopwords')\n",
        "nltk.download('punkt')\n",
        "#from nltk.corpus import stopwords\n",
        "import re"
      ],
      "execution_count": 1,
      "outputs": [
        {
          "output_type": "stream",
          "text": [
            "[nltk_data] Downloading package stopwords to /root/nltk_data...\n",
            "[nltk_data]   Package stopwords is already up-to-date!\n",
            "[nltk_data] Downloading package punkt to /root/nltk_data...\n",
            "[nltk_data]   Package punkt is already up-to-date!\n"
          ],
          "name": "stdout"
        }
      ]
    },
    {
      "cell_type": "code",
      "metadata": {
        "id": "QWZTfAqfVDXD",
        "colab_type": "code",
        "outputId": "50f7087a-3406-4cd5-d112-e43bdae652d2",
        "colab": {
          "base_uri": "https://localhost:8080/",
          "height": 54
        }
      },
      "source": [
        "from google.colab import drive\n",
        "\n",
        "drive.mount('/content/gdrive')"
      ],
      "execution_count": 2,
      "outputs": [
        {
          "output_type": "stream",
          "text": [
            "Drive already mounted at /content/gdrive; to attempt to forcibly remount, call drive.mount(\"/content/gdrive\", force_remount=True).\n"
          ],
          "name": "stdout"
        }
      ]
    },
    {
      "cell_type": "code",
      "metadata": {
        "id": "Ds3AI_-PVbzE",
        "colab_type": "code",
        "colab": {}
      },
      "source": [
        "import json\n",
        "\n",
        "with open('/content/gdrive/My Drive/dataset_43428_1.txt', encoding=\"utf-8\") as json_file:\n",
        "    df = json.load(json_file)"
      ],
      "execution_count": 0,
      "outputs": []
    },
    {
      "cell_type": "code",
      "metadata": {
        "id": "L40nGV_CV-WR",
        "colab_type": "code",
        "outputId": "151a6d12-a16d-49b9-99e3-18d64b0894c0",
        "colab": {
          "base_uri": "https://localhost:8080/",
          "height": 292
        }
      },
      "source": [
        "print(df[0])"
      ],
      "execution_count": 4,
      "outputs": [
        {
          "output_type": "stream",
          "text": [
            "В Сербии арестован последний военный преступник\n",
            "Задержан Горан Хаджич , разыскиваемый Гаагским трибуналом за военные преступления в ходе войны на Балканах .\n",
            "\n",
            "Как сообщает « Лента.ру » , первые неофициальные сообщения об аресте Горана Хаджича появились ещё 19 июля , однако вскоре были опровергнуты .\n",
            "В ближайшее время о поимке Хаджича должен официально объявить президент Сербии Борис Тадич .\n",
            "Об этом сообщает сербский телеканал B92 .\n",
            "\n",
            "Хорватский политик сербского происхождения Горан Хаджич был руководителем Республики Сербская Краина — непризнанного сербского государства , существовавшего на территории Хорватии в 1992 — 1995 годах .\n",
            "В 2004 году Международный трибунал по бывшей Югославии в Гааге предъявил Хаджичу обвинения по 14 эпизодам военных преступлений и преступлений против человечности .\n",
            "В частности , ему вменяется причастность к депортациям и убийствам мирного хорватского населения в 1991 — 1993 годах .\n",
            "\n",
            "За информацию , способную помочь в поимке Горана Хаджича , в США была назначена награда в 5 млн долларов .\n",
            "Еще 1,4 млн долларов за информацию о его местонахождении обещали власти Сербии .\n",
            "После того как в мае 2011 года был арестован бывший командующий армией Республики Сербской Ратко Младич , Хаджич оставался последним преступником , выдачи которого Гаагский трибунал добивался от Сербии .\n",
            "Выдача обвиняемых в военных преступлениях является одним из условий для принятия Сербии в Европейский союз .\n"
          ],
          "name": "stdout"
        }
      ]
    },
    {
      "cell_type": "code",
      "metadata": {
        "id": "LHmURc-V4k4R",
        "colab_type": "code",
        "colab": {}
      },
      "source": [
        "stopwords = nltk.corpus.stopwords.words('russian')"
      ],
      "execution_count": 0,
      "outputs": []
    },
    {
      "cell_type": "code",
      "metadata": {
        "id": "-HrAs4vBk2Su",
        "colab_type": "code",
        "colab": {}
      },
      "source": [
        "result = []\n",
        "def claer_text(txt):\n",
        "  txt = txt.strip()\n",
        "  txt = txt.replace('\\n', ' ')\n",
        "  txt = txt.replace(' .', '.')\n",
        "  txt = txt.replace(' ,', ',')\n",
        "  txt = txt.replace(' ;', ';')\n",
        "  txt = txt.replace(' :', ':')\n",
        "  txt = txt.replace(' ?', '?')\n",
        "  txt = txt.replace(' !', '!')\n",
        "  txt = txt.replace(' )', ')')\n",
        "  txt = txt.replace('( ', '(')\n",
        "  txt = txt.replace('« ', '«')\n",
        "  txt = txt.replace(' »', '»')\n",
        "  txt = txt.replace('&quot;', '\"')\n",
        "  return txt\n",
        "for texts in df:\n",
        "  texts = claer_text(texts)\n",
        "  texts = re.sub(r'\\[[0-9]*\\]', ' ', texts)\n",
        "  texts = re.sub(r'\\s+', ' ', texts)\n",
        "\n",
        "  formatted_texts = re.sub('[^а-яА-Яa-zA-Z]', ' ', texts )\n",
        "  formatted_texts = re.sub(r'\\s+', ' ', formatted_texts)\n",
        "\n",
        "  sentence_list = nltk.sent_tokenize(texts)\n",
        "\n",
        "  word_frequencies = {}\n",
        "  for word in nltk.word_tokenize(formatted_texts):\n",
        "    if word not in stopwords:\n",
        "      if word not in word_frequencies.keys():\n",
        "        word_frequencies[word] = 1\n",
        "      else:\n",
        "        word_frequencies[word] += 1\n",
        "  maximum_frequncy = max(word_frequencies.values())\n",
        "\n",
        "  for word in word_frequencies.keys():\n",
        "    word_frequencies[word] = (word_frequencies[word]/maximum_frequncy)\n",
        "\n",
        "  sentence_scores = {}\n",
        "  for sent in sentence_list:\n",
        "    for word in nltk.word_tokenize(sent.lower()):\n",
        "      if word in word_frequencies.keys():\n",
        "        if sent not in sentence_scores.keys():\n",
        "          sentence_scores[sent] = word_frequencies[word]\n",
        "        else:\n",
        "          sentence_scores[sent] += word_frequencies[word]\n",
        "  summary_sentences = heapq.nlargest(len(sentence_list), sentence_scores, key=sentence_scores.get)\n",
        "  len_sum_sentences = [len(i) for i in summary_sentences]\n",
        "  x = 1\n",
        "  summary = summary_sentences[0]\n",
        "  while len(summary) < 300 and x < len(summary_sentences):\n",
        "    if 300 - len(summary) > len_sum_sentences[x]/2:\n",
        "      summary += ' ' + summary_sentences[x]\n",
        "      x += 1\n",
        "    else:\n",
        "      break\n",
        "  summary = summary.strip()\n",
        "  result.append(summary)"
      ],
      "execution_count": 0,
      "outputs": []
    },
    {
      "cell_type": "code",
      "metadata": {
        "id": "jwqtQdpk7qhE",
        "colab_type": "code",
        "colab": {}
      },
      "source": [
        "with open('/content/gdrive/My Drive/outdataset_43428_1.txt', 'w', encoding='utf-8') as f:\n",
        "    json.dump(result, f, ensure_ascii=False, indent=4)"
      ],
      "execution_count": 0,
      "outputs": []
    },
    {
      "cell_type": "code",
      "metadata": {
        "id": "3NHVZizsF_rS",
        "colab_type": "code",
        "colab": {}
      },
      "source": [
        ""
      ],
      "execution_count": 0,
      "outputs": []
    }
  ]
}