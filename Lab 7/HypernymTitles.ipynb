{
 "cells": [
  {
   "cell_type": "markdown",
   "metadata": {},
   "source": [
    "#### Lab 7 \n",
    "#### Rouge Metrics"
   ]
  },
  {
   "cell_type": "code",
   "execution_count": 1,
   "metadata": {
    "scrolled": true
   },
   "outputs": [
    {
     "name": "stderr",
     "output_type": "stream",
     "text": [
      "C:\\Users\\builder\\Anaconda\\lib\\site-packages\\fuzzywuzzy\\fuzz.py:11: UserWarning: Using slow pure-python SequenceMatcher. Install python-Levenshtein to remove this warning\n",
      "  warnings.warn('Using slow pure-python SequenceMatcher. Install python-Levenshtein to remove this warning')\n"
     ]
    }
   ],
   "source": [
    "import pandas as pd\n",
    "from nltk.corpus import stopwords\n",
    "from nltk.corpus import wordnet as wn\n",
    "import numpy as np\n",
    "from fuzzywuzzy import fuzz \n",
    "import ipywidgets as widgets\n",
    "import pprint\n",
    "from ipywidgets import interact, interact_manual\n",
    "import re\n",
    "__PATH__ = \"./data.csv\""
   ]
  },
  {
   "cell_type": "code",
   "execution_count": 2,
   "metadata": {
    "scrolled": true
   },
   "outputs": [],
   "source": [
    "df = pd.read_csv(__PATH__,sep=\";\",header=0)"
   ]
  },
  {
   "cell_type": "markdown",
   "metadata": {},
   "source": [
    "#### Preprocessing the title to list of tokens"
   ]
  },
  {
   "cell_type": "code",
   "execution_count": 3,
   "metadata": {},
   "outputs": [],
   "source": [
    "titles = list(df['title'].apply(\n",
    "    lambda t : \n",
    "        tuple(\n",
    "            filter(lambda e:not e in stopwords.words('english'),\n",
    "                map(lambda e:e.lower(),\n",
    "                       re.findall('([A-Z]{1}[a-z]+)',t.replace('.pdf','')))\n",
    "                )\n",
    "            )\n",
    "        )\n",
    "    )"
   ]
  },
  {
   "cell_type": "code",
   "execution_count": 4,
   "metadata": {},
   "outputs": [],
   "source": [
    "res = {}\n",
    "for title in titles:\n",
    "    synsets = {}\n",
    "    for word in title:\n",
    "        synsets[word]=[synset for synset in wn.synsets(word)]\n",
    "    res[title] = synsets"
   ]
  },
  {
   "cell_type": "code",
   "execution_count": 5,
   "metadata": {},
   "outputs": [],
   "source": [
    "#helpers\n",
    "\n",
    "def get_hyps(word_set):\n",
    "    all_hyps = {}\n",
    "    for w in word_set:\n",
    "        hyps = []\n",
    "        for synset in wn.synsets(w):\n",
    "            hyps.extend(synset.hypernyms())\n",
    "        all_hyps[w] = set(hyps)\n",
    "    \n",
    "    return all_hyps\n",
    "\n",
    "def calculate_f1(rcl, prec):\n",
    "    return 2*rcl*prec/(rcl+prec)\n",
    "\n",
    "def get_f1_and_intr(a, b):\n",
    "    intr = a.intersection(b)\n",
    "    if len(intr) == 0:\n",
    "        return 0, intr\n",
    "    \n",
    "    rcl = len(intr) / len(a)\n",
    "    prec = len(intr) / len(b)\n",
    "    msr = calculate_f1(rcl, prec)\n",
    "    return msr, intr\n",
    "\n",
    "def distance(a,b):\n",
    "    a = set(a)\n",
    "    b = set(b)\n",
    "    f1score, intr = get_f1_and_intr(a, b)\n",
    "    a = a - intr\n",
    "    b = b - intr\n",
    "    \n",
    "    if len(a) == 0 or len(b) == 0:\n",
    "        return 1.0 - f1score\n",
    "    \n",
    "    buff_a = get_hyps(a)\n",
    "    buff_b = get_hyps(b)\n",
    "    \n",
    "    hyp_penalty = 0\n",
    "    scnd_lvl_hyps = set()\n",
    "    for wordA in a:\n",
    "        for wordB in b:\n",
    "            common_hyps = buff_a[wordA].intersection(buff_b[wordB])\n",
    "            if len(common_hyps) > 0:\n",
    "                hyp_penalty += 1\n",
    "                strs = []\n",
    "                for s in common_hyps:\n",
    "                    strs.extend(s.lemma_names())\n",
    "                scnd_lvl_hyps.update(strs)\n",
    "    \n",
    "    if len(scnd_lvl_hyps) > 0:\n",
    "        buff_scnd_lvl_hyps = get_hyps(scnd_lvl_hyps)\n",
    "        for h in scnd_lvl_hyps:\n",
    "            for wordA in a:\n",
    "                a_common_hyps = buff_scnd_lvl_hyps[h].intersection(buff_a[wordA])\n",
    "                if len(a_common_hyps) > 0:\n",
    "                    hyp_penalty += 0.5\n",
    "            \n",
    "            for wordB in b:\n",
    "                b_common_hyps = buff_scnd_lvl_hyps[h].intersection(buff_b[wordB])\n",
    "                if len(b_common_hyps) > 0:\n",
    "                    hyp_penalty += 0.5\n",
    "                \n",
    "    rcl_hyp = hyp_penalty/len(a)\n",
    "    prec_hyp = hyp_penalty/len(b)\n",
    "    f1score_hyp = calculate_f1(rcl_hyp, prec_hyp) if hyp_penalty > 0 else 0\n",
    "    f1res = (2*f1score+f1score_hyp)/3\n",
    "    return (1.0 - f1res)"
   ]
  },
  {
   "cell_type": "code",
   "execution_count": 6,
   "metadata": {},
   "outputs": [],
   "source": [
    "buff = list(res.items())\n",
    "dist = np.zeros((len(buff),len(buff)))\n",
    "for lli,ll in enumerate(buff):\n",
    "    for rri,rr in enumerate(buff):\n",
    "        dist[lli,rri]=distance(ll[0],rr[0])\n",
    "        "
   ]
  },
  {
   "cell_type": "markdown",
   "metadata": {},
   "source": [
    "#### Top ten closest articles with fuzzy metrics of titles"
   ]
  },
  {
   "cell_type": "code",
   "execution_count": 7,
   "metadata": {},
   "outputs": [
    {
     "data": {
      "application/vnd.jupyter.widget-view+json": {
       "model_id": "f900d64a51954755a367de604d0f9cc7",
       "version_major": 2,
       "version_minor": 0
      },
      "text/plain": [
       "interactive(children=(IntSlider(value=0, description='ind', max=995), Output()), _dom_classes=('widget-interac…"
      ]
     },
     "metadata": {},
     "output_type": "display_data"
    }
   ],
   "source": [
    "@interact(ind=(0,len(buff)-1,1))\n",
    "def h(ind=0):\n",
    "    pp = pprint.PrettyPrinter(indent=4)\n",
    "    print(' '.join(buff[ind][0]))\n",
    "    pp.pprint([buff[i][0] for i in dist[ind][:].argsort()[1:11]])\n"
   ]
  },
  {
   "cell_type": "code",
   "execution_count": 8,
   "metadata": {},
   "outputs": [
    {
     "data": {
      "application/vnd.jupyter.widget-view+json": {
       "model_id": "bb17f872292d4fe4a95cf69cede8e626",
       "version_major": 2,
       "version_minor": 0
      },
      "text/plain": [
       "interactive(children=(IntSlider(value=0, description='ind', max=995), Output()), _dom_classes=('widget-interac…"
      ]
     },
     "metadata": {},
     "output_type": "display_data"
    }
   ],
   "source": [
    "@interact(ind=(0,len(buff)-1,1))\n",
    "def hypernyms(ind=0):\n",
    "    pp = pprint.PrettyPrinter(indent=4)\n",
    "    print(' '.join(buff[ind][0]))\n",
    "    pp.pprint(buff[ind][1])"
   ]
  },
  {
   "cell_type": "code",
   "execution_count": null,
   "metadata": {},
   "outputs": [],
   "source": []
  }
 ],
 "metadata": {
  "kernelspec": {
   "display_name": "Python 3",
   "language": "python",
   "name": "python3"
  },
  "language_info": {
   "codemirror_mode": {
    "name": "ipython",
    "version": 3
   },
   "file_extension": ".py",
   "mimetype": "text/x-python",
   "name": "python",
   "nbconvert_exporter": "python",
   "pygments_lexer": "ipython3",
   "version": "3.7.3"
  }
 },
 "nbformat": 4,
 "nbformat_minor": 2
}
